{
 "metadata": {
  "language_info": {
   "codemirror_mode": {
    "name": "ipython",
    "version": 3
   },
   "file_extension": ".py",
   "mimetype": "text/x-python",
   "name": "python",
   "nbconvert_exporter": "python",
   "pygments_lexer": "ipython3",
   "version": "3.8.8"
  },
  "orig_nbformat": 4,
  "kernelspec": {
   "name": "python3",
   "display_name": "Python 3.8.8 64-bit ('base': conda)"
  },
  "interpreter": {
   "hash": "6a89d924cb008175055485af514d56217369e45025d0c7402253c41764b76720"
  }
 },
 "nbformat": 4,
 "nbformat_minor": 2,
 "cells": [
  {
   "source": [
    "## Data e hora"
   ],
   "cell_type": "markdown",
   "metadata": {}
  },
  {
   "cell_type": "code",
   "execution_count": 1,
   "metadata": {},
   "outputs": [
    {
     "output_type": "stream",
     "name": "stdout",
     "text": [
      "Hoje é:  2021-06-20\nA dataca completa com todas as parte é:  20 6 2021\nOnúmero do dia da semana é:  6\nHoje o dia da semana é:  dom\nData e Hora>  2021-06-20 00:30:16.894577\nHora atual:  00:30:16.894577\n"
     ]
    }
   ],
   "source": [
    "from datetime import *\n",
    "\n",
    "def manipulaData():\n",
    "    hoje = date.today()\n",
    "    print('Hoje é: ', hoje)\n",
    "    print('A dataca completa com todas as parte é: ', hoje.day, hoje.month, hoje.year)\n",
    "    print('Onúmero do dia da semana é: ', hoje.weekday())\n",
    "\n",
    "    dias=['seg','ter','qua','qui','sex','sab','dom']\n",
    "    print('Hoje o dia da semana é: ', dias[hoje.weekday()])\n",
    "\n",
    "    data=datetime.now()\n",
    "    print('Data e Hora> ', data)\n",
    "\n",
    "    tempo=datetime.time(data) \n",
    "    print(\"Hora atual: \", tempo)\n",
    "\n",
    "manipulaData()   \n",
    "\n"
   ]
  },
  {
   "cell_type": "code",
   "execution_count": 6,
   "metadata": {},
   "outputs": [
    {
     "output_type": "stream",
     "name": "stdout",
     "text": [
      "O ano é: 21\nData e Hora local: Sun Jun 20 00:34:44 2021\nHoje a hora atual é: 12 34 44 AM\n"
     ]
    }
   ],
   "source": [
    "# Datas e horas podem ser formatados usando um conjunto de strings predefinidas\n",
    "def formataDataHora():\n",
    "\n",
    "#### Date Formatting ####\n",
    "  \n",
    "# %y/%Y - Ano, %a/%A - Dia da semana, %b/%B - Mês, %d - dia do mÊs\n",
    "    hoje2 = datetime.now()\n",
    "\n",
    "    print(hoje2.strftime('O ano é: %y'))\n",
    "#% c - data e hora da localidade,% x - data da localidade,% X - hora da localidade\n",
    "    print(hoje2.strftime('Data e Hora local: %c'))\n",
    "  \n",
    "#### Time Formatting ####\n",
    "# %I/%H - 12/24 horas, %M - minuto, %S - segundo, %p -  AM/PM\n",
    "    print(hoje2.strftime('Hoje a hora atual é: %I %M %S %p'))\n",
    "formataDataHora()"
   ]
  },
  {
   "cell_type": "code",
   "execution_count": 25,
   "metadata": {},
   "outputs": [
    {
     "output_type": "stream",
     "name": "stdout",
     "text": [
      "446 days, 19:25:00\nData no futuro:  2022-09-09 20:08:49.536502\nData no passado 2020-03-30 05:18:49.536502\n"
     ]
    }
   ],
   "source": [
    "def deltaTempo():\n",
    "    delta=timedelta(days=86, hours=8532, minutes=7645)\n",
    "    print(delta)\n",
    "\n",
    "    hoje3=datetime.now()\n",
    "    print('Data no futuro: ',hoje3 + delta)\n",
    "    print('Data no passado' ,hoje3 - delta)\n",
    "deltaTempo()"
   ]
  },
  {
   "cell_type": "code",
   "execution_count": 60,
   "metadata": {},
   "outputs": [
    {
     "output_type": "stream",
     "name": "stdout",
     "text": [
      "faltam 376 dias para a data 01/07/22\n"
     ]
    }
   ],
   "source": [
    "def quantosDiasFaltam(ano, mes, dia):\n",
    "    hoje4=date.today()\n",
    "    dataProcurada=date(ano, mes, dia)\n",
    "\n",
    "    qntosDias=dataProcurada - hoje4\n",
    "\n",
    "    mensagemRetorno= \"faltam \" + str(qntosDias).replace(\"days, 0:00:00\", \"\") + \"dias para a data \" + dataProcurada.strftime(\"%d/%m/%y\")\n",
    "\n",
    "    dic={\"days, 0:00:00\":\"\"}\n",
    "    print(mensagemRetorno)\n",
    "\n",
    "quantosDiasFaltam(2022, 7, 1)\n",
    "\n"
   ]
  },
  {
   "source": [
    "## Calendário"
   ],
   "cell_type": "markdown",
   "metadata": {}
  },
  {
   "cell_type": "code",
   "execution_count": 68,
   "metadata": {},
   "outputs": [
    {
     "output_type": "stream",
     "name": "stdout",
     "text": [
      "     June 2019\nSu Mo Tu We Th Fr Sa\n                   1\n 2  3  4  5  6  7  8\n 9 10 11 12 13 14 15\n16 17 18 19 20 21 22\n23 24 25 26 27 28 29\n30\n\n"
     ]
    }
   ],
   "source": [
    "#\n",
    "# Arquivo com exemplos de uso de calendários\n",
    "#\n",
    "import calendar\n",
    "\n",
    "\n",
    "# criando um calendário no formato texto\n",
    "def calendarioTexto():\n",
    "    calendarioTexto = calendar.TextCalendar(calendar.SUNDAY)\n",
    "    txtCalendario=calendarioTexto.formatmonth(2019, 6)\n",
    "    print(txtCalendario)\n",
    "\n",
    "calendarioTexto()\n",
    "\n",
    "# Criando um calendário no formato HTML\n",
    "def calendarioHTML():\n",
    "    calendarioHTML = calendar.HTMLCalendar(calendar.SUNDAY)\n",
    "    htmlCalendario=calendarioHTML.formatmonth(2019, 6)\n",
    "    print(htmlCalendario)\n",
    "\n",
    "#calendarioHTML()\n",
    "\n",
    "\n",
    "\n",
    "# loop ao longo dos dias de um mês"
   ]
  },
  {
   "source": [
    "### Exemplos de uso de calendários"
   ],
   "cell_type": "markdown",
   "metadata": {}
  },
  {
   "cell_type": "code",
   "execution_count": 73,
   "metadata": {},
   "outputs": [
    {
     "output_type": "stream",
     "name": "stdout",
     "text": [
      "\nJanuary\nFebruary\nMarch\nApril\nMay\nJune\nJuly\nAugust\nSeptember\nOctober\nNovember\nDecember\nMonday\nTuesday\nWednesday\nThursday\nFriday\nSaturday\nSunday\n"
     ]
    }
   ],
   "source": [
    "def imprimeMes():\n",
    "    for mes in calendar.month_name:\n",
    "        print (mes)\n",
    "\n",
    "    for dia in calendar.day_name:\n",
    "        print(dia)\n",
    "imprimeMes()"
   ]
  },
  {
   "cell_type": "code",
   "execution_count": null,
   "metadata": {},
   "outputs": [],
   "source": []
  }
 ]
}